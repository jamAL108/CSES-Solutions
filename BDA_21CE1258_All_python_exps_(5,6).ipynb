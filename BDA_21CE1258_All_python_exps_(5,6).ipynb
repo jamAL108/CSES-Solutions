{
  "nbformat": 4,
  "nbformat_minor": 0,
  "metadata": {
    "colab": {
      "provenance": [],
      "include_colab_link": true
    },
    "kernelspec": {
      "name": "python3",
      "display_name": "Python 3"
    },
    "language_info": {
      "name": "python"
    }
  },
  "cells": [
    {
      "cell_type": "markdown",
      "metadata": {
        "id": "view-in-github",
        "colab_type": "text"
      },
      "source": [
        "<a href=\"https://colab.research.google.com/github/jamAL108/CSES-Solutions/blob/main/BDA_21CE1258_All_python_exps_(5%2C6).ipynb\" target=\"_parent\"><img src=\"https://colab..google.com/assets/colab-badge.svg\" alt=\"Open In Colab\"/></a>"
      ]
    },
    {
      "cell_type": "code",
      "execution_count": null,
      "metadata": {
        "colab": {
          "base_uri": "https://localhost:8080/"
        },
        "id": "2HKL01RqrThm",
        "outputId": "3cb2a855-c650-4c52-affb-ef878ae0bfea"
      },
      "outputs": [
        {
          "output_type": "stream",
          "name": "stdout",
          "text": [
            "apple might be in the set.\n",
            "watermelon is definitely not in the set.\n",
            "mango might be in the set.\n",
            "pear is definitely not in the set.\n",
            "kiwi might be in the set.\n",
            "guava is definitely not in the set.\n",
            "peach might be in the set.\n"
          ]
        }
      ],
      "source": [
        "# 21CE1376 -  Jamal Mydeen\n",
        "\n",
        "import hashlib\n",
        "import math\n",
        "\n",
        "class BloomFilter:\n",
        "    def __init__(self, size, hash_count):\n",
        "        \"\"\"Initialize the Bloom Filter with a bit array and number of hash functions.\"\"\"\n",
        "        self.size = size\n",
        "        self.hash_count = hash_count\n",
        "        self.bit_array = [0] * size\n",
        "\n",
        "    def _hashes(self, item):\n",
        "        \"\"\"Generate hash values for the given item using SHA-256 and multiple seeds.\"\"\"\n",
        "        result = []\n",
        "        for i in range(self.hash_count):\n",
        "            # Create a unique hash for each seed and convert it to an integer\n",
        "            hash_result = hashlib.sha256(f\"{i}{item}\".encode('utf-8')).hexdigest()\n",
        "            result.append(int(hash_result, 16) % self.size)\n",
        "        return result\n",
        "\n",
        "    def add(self, item):\n",
        "        \"\"\"Add an item to the Bloom Filter by setting bits in the bit array.\"\"\"\n",
        "        for index in self._hashes(item):\n",
        "            self.bit_array[index] = 1\n",
        "\n",
        "    def check(self, item):\n",
        "        \"\"\"Check if an item might be in the Bloom Filter.\"\"\"\n",
        "        for index in self._hashes(item):\n",
        "            if self.bit_array[index] == 0:\n",
        "                return False  # Item is definitely not in the set\n",
        "        return True  # Item might be in the set (could be a false positive)\n",
        "\n",
        "\n",
        "if __name__ == '__main__':\n",
        "    # Bloom filter configuration\n",
        "    size = 200\n",
        "    hash_count = 7\n",
        "\n",
        "    # Initialize the Bloom Filter\n",
        "    bloom_filter = BloomFilter(size, hash_count)\n",
        "\n",
        "    # Add items to the Bloom filter\n",
        "    fruits = ['apple', 'banana', 'mango', 'grape', 'orange',\n",
        "              'kiwi', 'strawberry', 'blueberry', 'peach', 'plum']\n",
        "\n",
        "    for fruit in fruits:\n",
        "        bloom_filter.add(fruit)\n",
        "\n",
        "    # Test items in the Bloom filter\n",
        "    test_fruits = ['apple', 'watermelon', 'mango', 'pear', 'kiwi', 'guava', 'peach']\n",
        "\n",
        "    for fruit in test_fruits:\n",
        "        if bloom_filter.check(fruit):\n",
        "            print(f'{fruit} might be in the set.')\n",
        "        else:\n",
        "            print(f'{fruit} is definitely not in the set.')"
      ]
    },
    {
      "cell_type": "code",
      "source": [
        "# 21CE1258\n",
        "import hashlib\n",
        "import random\n",
        "\n",
        "class FlajoletMartin:\n",
        "    def __init__(self, hash_count=10):\n",
        "        \"\"\"Initialize the Flajolet-Martin algorithm with a number of hash functions.\"\"\"\n",
        "        self.hash_count = hash_count\n",
        "        self.max_zeros = [0] * hash_count\n",
        "\n",
        "    def _hash(self, item, seed):\n",
        "        \"\"\"Generate a hash value for the item using SHA-256 and seed.\"\"\"\n",
        "        hash_object = hashlib.sha256((str(seed) + item).encode('utf-8')).hexdigest()\n",
        "        # Convert the hash to binary representation\n",
        "        binary_hash = bin(int(hash_object, 16))[2:].zfill(256)\n",
        "        return binary_hash\n",
        "\n",
        "    def _trailing_zeros(self, binary_string):\n",
        "        \"\"\"Count the number of trailing zeros in the binary string.\"\"\"\n",
        "        return len(binary_string) - len(binary_string.rstrip('0'))\n",
        "\n",
        "    def add(self, item):\n",
        "        \"\"\"Process an item and update the maximum trailing zero counts for each hash.\"\"\"\n",
        "        for i in range(self.hash_count):\n",
        "            binary_hash = self._hash(item, i)\n",
        "            trailing_zeros = self._trailing_zeros(binary_hash)\n",
        "            # Update the maximum trailing zeros observed for this hash\n",
        "            self.max_zeros[i] = max(self.max_zeros[i], trailing_zeros)\n",
        "\n",
        "    def estimate_cardinality(self):\n",
        "        \"\"\"Estimate the number of distinct elements in the stream using the FM algorithm.\"\"\"\n",
        "        # Calculate the harmonic mean of the 2^max_zeros\n",
        "        estimates = [2**zeros for zeros in self.max_zeros]\n",
        "        harmonic_mean = len(estimates) / sum(1.0 / e for e in estimates)\n",
        "        return round(harmonic_mean)\n",
        "\n",
        "if __name__ == '__main__':\n",
        "    # Initialize the Flajolet-Martin algorithm with 10 hash functions\n",
        "    fm = FlajoletMartin(hash_count=10)\n",
        "\n",
        "    # Add some elements to the stream\n",
        "    programming_languages = ['python', 'javascript', 'java', 'c++', 'typescript',\n",
        "                             'go', 'rust', 'swift', 'c', 'java']\n",
        "\n",
        "    for language in programming_languages:\n",
        "        fm.add(language)\n",
        "\n",
        "    # Estimate the number of distinct elements\n",
        "    estimated_count = fm.estimate_cardinality()\n",
        "    print(f\"Estimated number of distinct elements: {estimated_count}\")"
      ],
      "metadata": {
        "colab": {
          "base_uri": "https://localhost:8080/"
        },
        "id": "eLFiloQes04q",
        "outputId": "f84fdda6-c9f9-4411-b6dd-117a6c709e02"
      },
      "execution_count": null,
      "outputs": [
        {
          "output_type": "stream",
          "name": "stdout",
          "text": [
            "Estimated number of distinct elements: 6\n"
          ]
        }
      ]
    },
    {
      "cell_type": "code",
      "source": [
        "\n",
        "\n"
      ],
      "metadata": {
        "id": "u3ilN0GorriS"
      },
      "execution_count": null,
      "outputs": []
    }
  ]
}
